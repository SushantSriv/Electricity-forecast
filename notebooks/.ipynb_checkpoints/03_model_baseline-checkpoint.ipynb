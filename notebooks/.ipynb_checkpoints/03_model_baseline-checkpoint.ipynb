{
 "cells": [
  {
   "cell_type": "code",
   "execution_count": 1,
   "id": "5ae3d79c-3879-4acf-87c1-36d5c577b38d",
   "metadata": {},
   "outputs": [
    {
     "data": {
      "application/vnd.jupyter.widget-view+json": {
       "model_id": "17fe9649167f44fca4a4048c7b09ac0c",
       "version_major": 2,
       "version_minor": 0
      },
      "text/plain": [
       "Evaluating Persistence:   0%|          | 0/5 [00:00<?, ?zone/s]"
      ]
     },
     "metadata": {},
     "output_type": "display_data"
    },
    {
     "data": {
      "application/vnd.jupyter.widget-view+json": {
       "model_id": "3496134ddb784388ba9bb751fdc9a12c",
       "version_major": 2,
       "version_minor": 0
      },
      "text/plain": [
       "Evaluating SARIMA:   0%|          | 0/5 [00:00<?, ?zone/s]"
      ]
     },
     "metadata": {},
     "output_type": "display_data"
    },
    {
     "ename": "TypeError",
     "evalue": "Cannot convert input [DatetimeIndex(['2025-05-31 22:00:00', '2025-05-31 23:00:00',\n               '2025-06-01 00:00:00', '2025-06-01 01:00:00',\n               '2025-06-01 02:00:00', '2025-06-01 03:00:00',\n               '2025-06-01 04:00:00', '2025-06-01 05:00:00',\n               '2025-06-01 06:00:00', '2025-06-01 07:00:00',\n               ...\n               '2025-06-30 12:00:00', '2025-06-30 13:00:00',\n               '2025-06-30 14:00:00', '2025-06-30 15:00:00',\n               '2025-06-30 16:00:00', '2025-06-30 17:00:00',\n               '2025-06-30 18:00:00', '2025-06-30 19:00:00',\n               '2025-06-30 20:00:00', '2025-06-30 21:00:00'],\n              dtype='datetime64[ns]', length=720, freq='h')] of type <class 'pandas.core.indexes.datetimes.DatetimeIndex'> to Timestamp",
     "output_type": "error",
     "traceback": [
      "\u001b[1;31m---------------------------------------------------------------------------\u001b[0m",
      "\u001b[1;31mTypeError\u001b[0m                                 Traceback (most recent call last)",
      "Cell \u001b[1;32mIn[1], line 50\u001b[0m\n\u001b[0;32m     48\u001b[0m train, test \u001b[38;5;241m=\u001b[39m train_test_split(series)\n\u001b[0;32m     49\u001b[0m model_fit \u001b[38;5;241m=\u001b[39m fit_sarima(train, order\u001b[38;5;241m=\u001b[39m(\u001b[38;5;241m1\u001b[39m,\u001b[38;5;241m0\u001b[39m,\u001b[38;5;241m1\u001b[39m), seasonal_order\u001b[38;5;241m=\u001b[39m(\u001b[38;5;241m1\u001b[39m,\u001b[38;5;241m1\u001b[39m,\u001b[38;5;241m1\u001b[39m,\u001b[38;5;241m24\u001b[39m))\n\u001b[1;32m---> 50\u001b[0m preds \u001b[38;5;241m=\u001b[39m \u001b[43mforecast_sarima\u001b[49m\u001b[43m(\u001b[49m\u001b[43mmodel_fit\u001b[49m\u001b[43m,\u001b[49m\u001b[43m \u001b[49m\u001b[38;5;28;43mlen\u001b[39;49m\u001b[43m(\u001b[49m\u001b[43mtest\u001b[49m\u001b[43m)\u001b[49m\u001b[43m,\u001b[49m\u001b[43m \u001b[49m\u001b[43mtest\u001b[49m\u001b[38;5;241;43m.\u001b[39;49m\u001b[43mindex\u001b[49m\u001b[43m)\u001b[49m\n\u001b[0;32m     51\u001b[0m true \u001b[38;5;241m=\u001b[39m test\u001b[38;5;241m.\u001b[39mvalues\n\u001b[0;32m     52\u001b[0m pred \u001b[38;5;241m=\u001b[39m preds\n",
      "File \u001b[1;32mC:\\AibelProgs\\side prosjekt\\Electricity-forecast\\src\\models\\train_arima.py:43\u001b[0m, in \u001b[0;36mforecast_sarima\u001b[1;34m(model_fit, steps, start_time)\u001b[0m\n\u001b[0;32m     41\u001b[0m preds \u001b[38;5;241m=\u001b[39m model_fit\u001b[38;5;241m.\u001b[39mforecast(steps)\n\u001b[0;32m     42\u001b[0m \u001b[38;5;66;03m# Build a proper datetime index for the forecasts\u001b[39;00m\n\u001b[1;32m---> 43\u001b[0m index \u001b[38;5;241m=\u001b[39m \u001b[43mpd\u001b[49m\u001b[38;5;241;43m.\u001b[39;49m\u001b[43mdate_range\u001b[49m\u001b[43m(\u001b[49m\u001b[43mstart\u001b[49m\u001b[38;5;241;43m=\u001b[39;49m\u001b[43mstart_time\u001b[49m\u001b[43m,\u001b[49m\u001b[43m \u001b[49m\u001b[43mperiods\u001b[49m\u001b[38;5;241;43m=\u001b[39;49m\u001b[43msteps\u001b[49m\u001b[43m,\u001b[49m\u001b[43m \u001b[49m\u001b[43mfreq\u001b[49m\u001b[38;5;241;43m=\u001b[39;49m\u001b[38;5;124;43m'\u001b[39;49m\u001b[38;5;124;43mh\u001b[39;49m\u001b[38;5;124;43m'\u001b[39;49m\u001b[43m)\u001b[49m\n\u001b[0;32m     44\u001b[0m \u001b[38;5;28;01mreturn\u001b[39;00m pd\u001b[38;5;241m.\u001b[39mSeries(preds, index\u001b[38;5;241m=\u001b[39mindex)\n",
      "File \u001b[1;32m~\\AppData\\Local\\Programs\\Python\\Python310\\lib\\site-packages\\pandas\\core\\indexes\\datetimes.py:1008\u001b[0m, in \u001b[0;36mdate_range\u001b[1;34m(start, end, periods, freq, tz, normalize, name, inclusive, unit, **kwargs)\u001b[0m\n\u001b[0;32m   1005\u001b[0m \u001b[38;5;28;01mif\u001b[39;00m freq \u001b[38;5;129;01mis\u001b[39;00m \u001b[38;5;28;01mNone\u001b[39;00m \u001b[38;5;129;01mand\u001b[39;00m com\u001b[38;5;241m.\u001b[39many_none(periods, start, end):\n\u001b[0;32m   1006\u001b[0m     freq \u001b[38;5;241m=\u001b[39m \u001b[38;5;124m\"\u001b[39m\u001b[38;5;124mD\u001b[39m\u001b[38;5;124m\"\u001b[39m\n\u001b[1;32m-> 1008\u001b[0m dtarr \u001b[38;5;241m=\u001b[39m DatetimeArray\u001b[38;5;241m.\u001b[39m_generate_range(\n\u001b[0;32m   1009\u001b[0m     start\u001b[38;5;241m=\u001b[39mstart,\n\u001b[0;32m   1010\u001b[0m     end\u001b[38;5;241m=\u001b[39mend,\n\u001b[0;32m   1011\u001b[0m     periods\u001b[38;5;241m=\u001b[39mperiods,\n\u001b[0;32m   1012\u001b[0m     freq\u001b[38;5;241m=\u001b[39mfreq,\n\u001b[0;32m   1013\u001b[0m     tz\u001b[38;5;241m=\u001b[39mtz,\n\u001b[0;32m   1014\u001b[0m     normalize\u001b[38;5;241m=\u001b[39mnormalize,\n\u001b[0;32m   1015\u001b[0m     inclusive\u001b[38;5;241m=\u001b[39minclusive,\n\u001b[0;32m   1016\u001b[0m     unit\u001b[38;5;241m=\u001b[39munit,\n\u001b[0;32m   1017\u001b[0m     \u001b[38;5;241m*\u001b[39m\u001b[38;5;241m*\u001b[39mkwargs,\n\u001b[0;32m   1018\u001b[0m )\n\u001b[0;32m   1019\u001b[0m \u001b[38;5;28;01mreturn\u001b[39;00m DatetimeIndex\u001b[38;5;241m.\u001b[39m_simple_new(dtarr, name\u001b[38;5;241m=\u001b[39mname)\n",
      "File \u001b[1;32m~\\AppData\\Local\\Programs\\Python\\Python310\\lib\\site-packages\\pandas\\core\\arrays\\datetimes.py:424\u001b[0m, in \u001b[0;36mDatetimeArray._generate_range\u001b[1;34m(cls, start, end, periods, freq, tz, normalize, ambiguous, nonexistent, inclusive, unit)\u001b[0m\n\u001b[0;32m    421\u001b[0m freq \u001b[38;5;241m=\u001b[39m to_offset(freq)\n\u001b[0;32m    423\u001b[0m \u001b[38;5;28;01mif\u001b[39;00m start \u001b[38;5;129;01mis\u001b[39;00m \u001b[38;5;129;01mnot\u001b[39;00m \u001b[38;5;28;01mNone\u001b[39;00m:\n\u001b[1;32m--> 424\u001b[0m     start \u001b[38;5;241m=\u001b[39m \u001b[43mTimestamp\u001b[49m\u001b[43m(\u001b[49m\u001b[43mstart\u001b[49m\u001b[43m)\u001b[49m\n\u001b[0;32m    426\u001b[0m \u001b[38;5;28;01mif\u001b[39;00m end \u001b[38;5;129;01mis\u001b[39;00m \u001b[38;5;129;01mnot\u001b[39;00m \u001b[38;5;28;01mNone\u001b[39;00m:\n\u001b[0;32m    427\u001b[0m     end \u001b[38;5;241m=\u001b[39m Timestamp(end)\n",
      "File \u001b[1;32mtimestamps.pyx:1865\u001b[0m, in \u001b[0;36mpandas._libs.tslibs.timestamps.Timestamp.__new__\u001b[1;34m()\u001b[0m\n",
      "File \u001b[1;32mconversion.pyx:425\u001b[0m, in \u001b[0;36mpandas._libs.tslibs.conversion.convert_to_tsobject\u001b[1;34m()\u001b[0m\n",
      "\u001b[1;31mTypeError\u001b[0m: Cannot convert input [DatetimeIndex(['2025-05-31 22:00:00', '2025-05-31 23:00:00',\n               '2025-06-01 00:00:00', '2025-06-01 01:00:00',\n               '2025-06-01 02:00:00', '2025-06-01 03:00:00',\n               '2025-06-01 04:00:00', '2025-06-01 05:00:00',\n               '2025-06-01 06:00:00', '2025-06-01 07:00:00',\n               ...\n               '2025-06-30 12:00:00', '2025-06-30 13:00:00',\n               '2025-06-30 14:00:00', '2025-06-30 15:00:00',\n               '2025-06-30 16:00:00', '2025-06-30 17:00:00',\n               '2025-06-30 18:00:00', '2025-06-30 19:00:00',\n               '2025-06-30 20:00:00', '2025-06-30 21:00:00'],\n              dtype='datetime64[ns]', length=720, freq='h')] of type <class 'pandas.core.indexes.datetimes.DatetimeIndex'> to Timestamp"
     ]
    }
   ],
   "source": [
    "# notebooks/03_model_baseline.ipynb\n",
    "\n",
    "# Baseline Model Comparison\n",
    "\n",
    "\"\"\"\n",
    "This notebook compares the persistence model and a SARIMA model\n",
    "using MAE, RMSE, and MAPE across all five price zones.\n",
    "\"\"\"\n",
    "\n",
    "# 1. Setup\n",
    "import os, sys\n",
    "from tqdm.notebook import tqdm\n",
    "project_root = os.path.abspath(os.path.join(os.getcwd(), \"..\"))\n",
    "src_path     = os.path.join(project_root, \"src\")\n",
    "if src_path not in sys.path:\n",
    "    sys.path.insert(0, src_path)\n",
    "\n",
    "import pandas as pd\n",
    "import numpy as np\n",
    "import matplotlib.pyplot as plt\n",
    "from sklearn.metrics import mean_absolute_error, mean_squared_error\n",
    "\n",
    "# Model imports\n",
    "from models.train_persistence import load_data as load_persistence_data, persistence_predict\n",
    "from models.train_arima    import load_series, train_test_split, fit_sarima, forecast_sarima\n",
    "\n",
    "# 2. Load Data\n",
    "features_path = os.path.join(project_root, \"data\", \"processed\", \"features.csv\")\n",
    "labels_path   = os.path.join(project_root, \"data\", \"processed\", \"labels.csv\")\n",
    "X_persist, y_persist = load_persistence_data(features_path, labels_path)\n",
    "zones = [c.replace(\"_label\", \"\") for c in y_persist.columns]\n",
    "\n",
    "pred_persist = persistence_predict(X_persist, zones)\n",
    "metrics_persist = {}\n",
    "for zone in tqdm(zones, desc=\"Evaluating Persistence\", unit=\"zone\"):\n",
    "    true = y_persist[f\"{zone}_label\"].values\n",
    "    pred = pred_persist[f\"{zone}_pred\"].values\n",
    "    mask = (~pd.isna(true)) & (true != 0)\n",
    "    mae  = mean_absolute_error(true[mask], pred[mask])\n",
    "    rmse = np.sqrt(mean_squared_error(true[mask], pred[mask]))\n",
    "    mape = (np.abs((true[mask] - pred[mask]) / true[mask]).mean() * 100)\n",
    "    metrics_persist[zone] = {\"MAE\": mae, \"RMSE\": rmse, \"MAPE\": mape}\n",
    "\n",
    "# SARIMA‐evaluering med progress bar\n",
    "metrics_sarima = {}\n",
    "for zone in tqdm(zones, desc=\"Evaluating SARIMA\", unit=\"zone\"):\n",
    "    series = load_series(zone, \"../data/interim/clean_prices.csv\")\n",
    "    train, test = train_test_split(series)\n",
    "    model_fit = fit_sarima(train, order=(1,0,1), seasonal_order=(1,1,1,24))\n",
    "    preds = forecast_sarima(model_fit, len(test), test.index[0])\n",
    "    true = test.values\n",
    "    pred = preds\n",
    "    mask = (~pd.isna(true)) & (true != 0)\n",
    "    mae  = mean_absolute_error(true[mask], pred[mask])\n",
    "    rmse = np.sqrt(mean_squared_error(true[mask], pred[mask]))\n",
    "    mape = (np.abs((true[mask] - pred[mask]) / true[mask]).mean() * 100)\n",
    "    metrics_sarima[zone] = {\"MAE\": mae, \"RMSE\": rmse, \"MAPE\": mape}\n",
    "\n",
    "# 5. Compile Results\n",
    "df_p = pd.DataFrame.from_dict(metrics_persist, orient=\"index\")\n",
    "df_p[\"model\"] = \"persistence\"\n",
    "\n",
    "df_a = pd.DataFrame.from_dict(metrics_sarima, orient=\"index\")\n",
    "df_a[\"model\"] = \"sarima\"\n",
    "\n",
    "df_all = pd.concat([df_p, df_a]).reset_index().rename(columns={\"index\": \"zone\"})\n",
    "\n",
    "# 6. Plot MAPE Comparison\n",
    "plt.figure(figsize=(8,4))\n",
    "for m in [\"persistence\", \"sarima\"]:\n",
    "    sub = df_all[df_all.model == m]\n",
    "    plt.bar(sub.zone + (\"_\" if m == \"persistence\" else \"\"), sub.MAPE, alpha=0.7, label=m)\n",
    "plt.legend()\n",
    "plt.title(\"MAPE per zone and model\")\n",
    "plt.ylabel(\"MAPE (%)\")\n",
    "plt.tight_layout()\n",
    "plt.show()\n",
    "\n",
    "# 7. Residual Histograms\n",
    "fig, axes = plt.subplots(2, len(zones), figsize=(15,6))\n",
    "for i, zone in enumerate(zones):\n",
    "    # Persistence residuals\n",
    "    res_p = y_persist[f\"{zone}_label\"] - pred_persist[f\"{zone}_pred\"]\n",
    "    axes[0,i].hist(res_p.dropna(), bins=20)\n",
    "    axes[0,i].set_title(f\"{zone} Persistence\")\n",
    "\n",
    "    # SARIMA residuals\n",
    "    series      = load_series(zone, os.path.join(project_root, \"data\", \"interim\", \"clean_prices.csv\"))\n",
    "    train, test = train_test_split(series)\n",
    "    model_fit   = fit_sarima(train, order=(1,0,1), seasonal_order=(1,1,1,24))\n",
    "    pred_series = forecast_sarima(model_fit, len(test), test.index[0])\n",
    "    res_a       = test - pred_series\n",
    "    axes[1,i].hist(res_a.dropna(), bins=20)\n",
    "    axes[1,i].set_title(f\"{zone} SARIMA\")\n",
    "\n",
    "plt.tight_layout()\n",
    "plt.show()\n"
   ]
  },
  {
   "cell_type": "code",
   "execution_count": null,
   "id": "277cd544-9e9d-4038-8cfc-6d72d68cdd1c",
   "metadata": {},
   "outputs": [],
   "source": []
  }
 ],
 "metadata": {
  "kernelspec": {
   "display_name": "Python 3 (ipykernel)",
   "language": "python",
   "name": "python3"
  },
  "language_info": {
   "codemirror_mode": {
    "name": "ipython",
    "version": 3
   },
   "file_extension": ".py",
   "mimetype": "text/x-python",
   "name": "python",
   "nbconvert_exporter": "python",
   "pygments_lexer": "ipython3",
   "version": "3.10.0"
  }
 },
 "nbformat": 4,
 "nbformat_minor": 5
}
